{
  "nbformat": 4,
  "nbformat_minor": 0,
  "metadata": {
    "colab": {
      "name": "ANN on Combined Cycle Power Plant (UCI)",
      "provenance": [],
      "collapsed_sections": []
    },
    "kernelspec": {
      "name": "python3",
      "display_name": "Python 3"
    }
  },
  "cells": [
    {
      "cell_type": "markdown",
      "metadata": {
        "id": "3cbb7fRy-eyr"
      },
      "source": [
        "# Artificial Neural Network on Combined Cycle Power Plant (UCI)"
      ]
    },
    {
      "cell_type": "markdown",
      "metadata": {
        "id": "8sNDnxE2-pwE"
      },
      "source": [
        "### Importing the libraries"
      ]
    },
    {
      "cell_type": "code",
      "metadata": {
        "id": "lxChR1Rk-umf"
      },
      "source": [
        "import numpy as np\n",
        "import pandas as pd\n",
        "import tensorflow as tf"
      ],
      "execution_count": 1,
      "outputs": []
    },
    {
      "cell_type": "code",
      "metadata": {
        "id": "uBTqR3nacj0e",
        "colab": {
          "base_uri": "https://localhost:8080/",
          "height": 34
        },
        "outputId": "8b094440-6e40-4077-96b8-297867359674"
      },
      "source": [
        "tf.__version__"
      ],
      "execution_count": 2,
      "outputs": [
        {
          "output_type": "execute_result",
          "data": {
            "application/vnd.google.colaboratory.intrinsic+json": {
              "type": "string"
            },
            "text/plain": [
              "'2.6.0'"
            ]
          },
          "metadata": {},
          "execution_count": 2
        }
      ]
    },
    {
      "cell_type": "markdown",
      "metadata": {
        "id": "AG3FQEch-yuA"
      },
      "source": [
        "## Part 1 - Data Preprocessing"
      ]
    },
    {
      "cell_type": "markdown",
      "metadata": {
        "id": "-4zq8Mza_D9O"
      },
      "source": [
        "### Importing the dataset"
      ]
    },
    {
      "cell_type": "code",
      "metadata": {
        "id": "B9CV13Co_HHM"
      },
      "source": [
        "dataset = pd.read_excel('Folds5x2_pp.xlsx')\n",
        "X = dataset.iloc[:, :-1].values\n",
        "y = dataset.iloc[:, -1].values"
      ],
      "execution_count": 3,
      "outputs": []
    },
    {
      "cell_type": "markdown",
      "metadata": {
        "id": "VC6omXel_Up0"
      },
      "source": [
        "### Splitting the dataset into the Training set and Test set"
      ]
    },
    {
      "cell_type": "code",
      "metadata": {
        "id": "L5edeb2r_agx"
      },
      "source": [
        "from sklearn.model_selection import train_test_split\n",
        "X_train, X_test, y_train, y_test = train_test_split(X, y, test_size = 0.2, random_state = 0)"
      ],
      "execution_count": 4,
      "outputs": []
    },
    {
      "cell_type": "markdown",
      "metadata": {
        "id": "_mSLlAT9_eyI"
      },
      "source": [
        "## Part 2 - Building the ANN"
      ]
    },
    {
      "cell_type": "markdown",
      "metadata": {
        "id": "CsBULd_f_wLY"
      },
      "source": [
        "### Initializing the ANN"
      ]
    },
    {
      "cell_type": "code",
      "metadata": {
        "id": "J6Hd97Ls__Nz"
      },
      "source": [
        "ann = tf.keras.models.Sequential()"
      ],
      "execution_count": 5,
      "outputs": []
    },
    {
      "cell_type": "markdown",
      "metadata": {
        "id": "iitAFJS_ABUn"
      },
      "source": [
        "### Adding the input layer and the first hidden layer"
      ]
    },
    {
      "cell_type": "code",
      "metadata": {
        "id": "ksO_Vv40AHix"
      },
      "source": [
        "ann.add(tf.keras.layers.Dense(units=6, activation='relu'))"
      ],
      "execution_count": 6,
      "outputs": []
    },
    {
      "cell_type": "markdown",
      "metadata": {
        "id": "-lb4kK_wAKbs"
      },
      "source": [
        "### Adding the second hidden layer"
      ]
    },
    {
      "cell_type": "code",
      "metadata": {
        "id": "c2357OqEAQOQ"
      },
      "source": [
        "ann.add(tf.keras.layers.Dense(units=6, activation='relu'))"
      ],
      "execution_count": 7,
      "outputs": []
    },
    {
      "cell_type": "markdown",
      "metadata": {
        "id": "jwMOmKb3AdBY"
      },
      "source": [
        "### Adding the output layer"
      ]
    },
    {
      "cell_type": "code",
      "metadata": {
        "id": "YFATpzsUAkLL"
      },
      "source": [
        "ann.add(tf.keras.layers.Dense(units=1))"
      ],
      "execution_count": 8,
      "outputs": []
    },
    {
      "cell_type": "markdown",
      "metadata": {
        "id": "fq7e4fF6A1yy"
      },
      "source": [
        "## Part 3 - Training the ANN"
      ]
    },
    {
      "cell_type": "markdown",
      "metadata": {
        "id": "qDeylAs2An25"
      },
      "source": [
        "### Compiling the ANN"
      ]
    },
    {
      "cell_type": "code",
      "metadata": {
        "id": "pesgbWlCAtB4"
      },
      "source": [
        "ann.compile(optimizer = 'adam', loss = 'mean_squared_error')"
      ],
      "execution_count": 9,
      "outputs": []
    },
    {
      "cell_type": "markdown",
      "metadata": {
        "id": "YjVuiybYOo7r"
      },
      "source": [
        "### Training the ANN model on the Training set"
      ]
    },
    {
      "cell_type": "code",
      "metadata": {
        "id": "c_vV-tiiA5zn",
        "colab": {
          "base_uri": "https://localhost:8080/"
        },
        "outputId": "6fe2b2be-0245-4c30-9cb3-3b00ce7174c8"
      },
      "source": [
        "ann.fit(X_train, y_train, batch_size = 32, epochs = 100)"
      ],
      "execution_count": 10,
      "outputs": [
        {
          "output_type": "stream",
          "name": "stdout",
          "text": [
            "Epoch 1/100\n",
            "240/240 [==============================] - 1s 1ms/step - loss: 140890.3438\n",
            "Epoch 2/100\n",
            "240/240 [==============================] - 0s 1ms/step - loss: 1647.3079\n",
            "Epoch 3/100\n",
            "240/240 [==============================] - 0s 1ms/step - loss: 927.3505\n",
            "Epoch 4/100\n",
            "240/240 [==============================] - 0s 1ms/step - loss: 768.8039\n",
            "Epoch 5/100\n",
            "240/240 [==============================] - 0s 1ms/step - loss: 641.1566\n",
            "Epoch 6/100\n",
            "240/240 [==============================] - 0s 1ms/step - loss: 582.6556\n",
            "Epoch 7/100\n",
            "240/240 [==============================] - 0s 1ms/step - loss: 521.7263\n",
            "Epoch 8/100\n",
            "240/240 [==============================] - 0s 1ms/step - loss: 457.0711\n",
            "Epoch 9/100\n",
            "240/240 [==============================] - 0s 1ms/step - loss: 393.2235\n",
            "Epoch 10/100\n",
            "240/240 [==============================] - 0s 1ms/step - loss: 329.8054\n",
            "Epoch 11/100\n",
            "240/240 [==============================] - 0s 1ms/step - loss: 269.9865\n",
            "Epoch 12/100\n",
            "240/240 [==============================] - 0s 1ms/step - loss: 214.4716\n",
            "Epoch 13/100\n",
            "240/240 [==============================] - 0s 1ms/step - loss: 166.8887\n",
            "Epoch 14/100\n",
            "240/240 [==============================] - 0s 1ms/step - loss: 126.4955\n",
            "Epoch 15/100\n",
            "240/240 [==============================] - 0s 1ms/step - loss: 95.6228\n",
            "Epoch 16/100\n",
            "240/240 [==============================] - 0s 1ms/step - loss: 74.3990\n",
            "Epoch 17/100\n",
            "240/240 [==============================] - 0s 1ms/step - loss: 59.8134\n",
            "Epoch 18/100\n",
            "240/240 [==============================] - 0s 1ms/step - loss: 51.4140\n",
            "Epoch 19/100\n",
            "240/240 [==============================] - 0s 994us/step - loss: 46.3712\n",
            "Epoch 20/100\n",
            "240/240 [==============================] - 0s 1ms/step - loss: 43.1134\n",
            "Epoch 21/100\n",
            "240/240 [==============================] - 0s 1ms/step - loss: 40.6164\n",
            "Epoch 22/100\n",
            "240/240 [==============================] - 0s 1ms/step - loss: 38.6475\n",
            "Epoch 23/100\n",
            "240/240 [==============================] - 0s 1ms/step - loss: 37.0008\n",
            "Epoch 24/100\n",
            "240/240 [==============================] - 0s 1ms/step - loss: 35.5618\n",
            "Epoch 25/100\n",
            "240/240 [==============================] - 0s 1ms/step - loss: 34.2401\n",
            "Epoch 26/100\n",
            "240/240 [==============================] - 0s 1ms/step - loss: 33.4044\n",
            "Epoch 27/100\n",
            "240/240 [==============================] - 0s 1ms/step - loss: 32.8033\n",
            "Epoch 28/100\n",
            "240/240 [==============================] - 0s 1ms/step - loss: 31.4934\n",
            "Epoch 29/100\n",
            "240/240 [==============================] - 0s 1ms/step - loss: 31.0507\n",
            "Epoch 30/100\n",
            "240/240 [==============================] - 0s 1ms/step - loss: 30.0764\n",
            "Epoch 31/100\n",
            "240/240 [==============================] - 0s 1ms/step - loss: 29.9650\n",
            "Epoch 32/100\n",
            "240/240 [==============================] - 0s 1ms/step - loss: 28.7608\n",
            "Epoch 33/100\n",
            "240/240 [==============================] - 0s 1ms/step - loss: 27.8748\n",
            "Epoch 34/100\n",
            "240/240 [==============================] - 0s 1ms/step - loss: 28.3788\n",
            "Epoch 35/100\n",
            "240/240 [==============================] - 0s 994us/step - loss: 27.6217\n",
            "Epoch 36/100\n",
            "240/240 [==============================] - 0s 1ms/step - loss: 26.5351\n",
            "Epoch 37/100\n",
            "240/240 [==============================] - 0s 1ms/step - loss: 26.0054\n",
            "Epoch 38/100\n",
            "240/240 [==============================] - 0s 1ms/step - loss: 25.6736\n",
            "Epoch 39/100\n",
            "240/240 [==============================] - 0s 1ms/step - loss: 26.0804\n",
            "Epoch 40/100\n",
            "240/240 [==============================] - 0s 1ms/step - loss: 25.9467\n",
            "Epoch 41/100\n",
            "240/240 [==============================] - 0s 993us/step - loss: 24.6910\n",
            "Epoch 42/100\n",
            "240/240 [==============================] - 0s 1ms/step - loss: 26.0759\n",
            "Epoch 43/100\n",
            "240/240 [==============================] - 0s 1ms/step - loss: 25.0404\n",
            "Epoch 44/100\n",
            "240/240 [==============================] - 0s 1ms/step - loss: 24.5409\n",
            "Epoch 45/100\n",
            "240/240 [==============================] - 0s 1ms/step - loss: 24.6111\n",
            "Epoch 46/100\n",
            "240/240 [==============================] - 0s 1ms/step - loss: 24.7068\n",
            "Epoch 47/100\n",
            "240/240 [==============================] - 0s 1ms/step - loss: 24.7149\n",
            "Epoch 48/100\n",
            "240/240 [==============================] - 0s 1ms/step - loss: 24.3511\n",
            "Epoch 49/100\n",
            "240/240 [==============================] - 0s 1ms/step - loss: 25.2048\n",
            "Epoch 50/100\n",
            "240/240 [==============================] - 0s 1ms/step - loss: 25.6614\n",
            "Epoch 51/100\n",
            "240/240 [==============================] - 0s 1ms/step - loss: 24.0652\n",
            "Epoch 52/100\n",
            "240/240 [==============================] - 0s 1ms/step - loss: 24.3268\n",
            "Epoch 53/100\n",
            "240/240 [==============================] - 0s 1ms/step - loss: 24.5009\n",
            "Epoch 54/100\n",
            "240/240 [==============================] - 0s 997us/step - loss: 25.3233\n",
            "Epoch 55/100\n",
            "240/240 [==============================] - 0s 1ms/step - loss: 24.3181\n",
            "Epoch 56/100\n",
            "240/240 [==============================] - 0s 1ms/step - loss: 24.1389\n",
            "Epoch 57/100\n",
            "240/240 [==============================] - 0s 1ms/step - loss: 23.9285\n",
            "Epoch 58/100\n",
            "240/240 [==============================] - 0s 1ms/step - loss: 23.7929\n",
            "Epoch 59/100\n",
            "240/240 [==============================] - 0s 996us/step - loss: 24.5703\n",
            "Epoch 60/100\n",
            "240/240 [==============================] - 0s 1ms/step - loss: 23.8497\n",
            "Epoch 61/100\n",
            "240/240 [==============================] - 0s 1ms/step - loss: 24.4573\n",
            "Epoch 62/100\n",
            "240/240 [==============================] - 0s 1ms/step - loss: 24.4227\n",
            "Epoch 63/100\n",
            "240/240 [==============================] - 0s 1ms/step - loss: 24.4072\n",
            "Epoch 64/100\n",
            "240/240 [==============================] - 0s 1ms/step - loss: 24.1226\n",
            "Epoch 65/100\n",
            "240/240 [==============================] - 0s 1ms/step - loss: 24.6942\n",
            "Epoch 66/100\n",
            "240/240 [==============================] - 0s 1ms/step - loss: 24.8475\n",
            "Epoch 67/100\n",
            "240/240 [==============================] - 0s 1ms/step - loss: 24.5526\n",
            "Epoch 68/100\n",
            "240/240 [==============================] - 0s 1ms/step - loss: 24.5016\n",
            "Epoch 69/100\n",
            "240/240 [==============================] - 0s 1ms/step - loss: 24.2811\n",
            "Epoch 70/100\n",
            "240/240 [==============================] - 0s 1ms/step - loss: 23.9532\n",
            "Epoch 71/100\n",
            "240/240 [==============================] - 0s 1ms/step - loss: 24.4460\n",
            "Epoch 72/100\n",
            "240/240 [==============================] - 0s 1ms/step - loss: 24.2250\n",
            "Epoch 73/100\n",
            "240/240 [==============================] - 0s 1ms/step - loss: 24.1927\n",
            "Epoch 74/100\n",
            "240/240 [==============================] - 0s 1ms/step - loss: 24.7087\n",
            "Epoch 75/100\n",
            "240/240 [==============================] - 0s 1ms/step - loss: 23.7731\n",
            "Epoch 76/100\n",
            "240/240 [==============================] - 0s 1ms/step - loss: 24.1365\n",
            "Epoch 77/100\n",
            "240/240 [==============================] - 0s 1ms/step - loss: 24.7114\n",
            "Epoch 78/100\n",
            "240/240 [==============================] - 0s 1ms/step - loss: 24.6936\n",
            "Epoch 79/100\n",
            "240/240 [==============================] - 0s 982us/step - loss: 24.2872\n",
            "Epoch 80/100\n",
            "240/240 [==============================] - 0s 1ms/step - loss: 24.1880\n",
            "Epoch 81/100\n",
            "240/240 [==============================] - 0s 1ms/step - loss: 24.8743\n",
            "Epoch 82/100\n",
            "240/240 [==============================] - 0s 1ms/step - loss: 24.7025\n",
            "Epoch 83/100\n",
            "240/240 [==============================] - 0s 1ms/step - loss: 24.3974\n",
            "Epoch 84/100\n",
            "240/240 [==============================] - 0s 1ms/step - loss: 23.9365\n",
            "Epoch 85/100\n",
            "240/240 [==============================] - 0s 1ms/step - loss: 24.1916\n",
            "Epoch 86/100\n",
            "240/240 [==============================] - 0s 995us/step - loss: 25.0874\n",
            "Epoch 87/100\n",
            "240/240 [==============================] - 0s 1ms/step - loss: 24.3652\n",
            "Epoch 88/100\n",
            "240/240 [==============================] - 0s 1ms/step - loss: 24.4750\n",
            "Epoch 89/100\n",
            "240/240 [==============================] - 0s 1ms/step - loss: 23.8502\n",
            "Epoch 90/100\n",
            "240/240 [==============================] - 0s 1ms/step - loss: 24.3072\n",
            "Epoch 91/100\n",
            "240/240 [==============================] - 0s 1ms/step - loss: 23.8043\n",
            "Epoch 92/100\n",
            "240/240 [==============================] - 0s 1ms/step - loss: 24.4028\n",
            "Epoch 93/100\n",
            "240/240 [==============================] - 0s 1ms/step - loss: 24.3286\n",
            "Epoch 94/100\n",
            "240/240 [==============================] - 0s 1ms/step - loss: 24.9298\n",
            "Epoch 95/100\n",
            "240/240 [==============================] - 0s 1ms/step - loss: 24.4632\n",
            "Epoch 96/100\n",
            "240/240 [==============================] - 0s 1ms/step - loss: 25.0280\n",
            "Epoch 97/100\n",
            "240/240 [==============================] - 0s 1ms/step - loss: 24.7415\n",
            "Epoch 98/100\n",
            "240/240 [==============================] - 0s 1ms/step - loss: 23.8992\n",
            "Epoch 99/100\n",
            "240/240 [==============================] - 0s 1ms/step - loss: 23.9193\n",
            "Epoch 100/100\n",
            "240/240 [==============================] - 0s 1ms/step - loss: 24.2718\n"
          ]
        },
        {
          "output_type": "execute_result",
          "data": {
            "text/plain": [
              "<keras.callbacks.History at 0x7f87deb24110>"
            ]
          },
          "metadata": {},
          "execution_count": 10
        }
      ]
    },
    {
      "cell_type": "markdown",
      "metadata": {
        "id": "0H0zKKNEBLD5"
      },
      "source": [
        "### Predicting the results of the Test set"
      ]
    },
    {
      "cell_type": "code",
      "metadata": {
        "id": "IA0yApEmBG1X",
        "colab": {
          "base_uri": "https://localhost:8080/"
        },
        "outputId": "1b7e7966-04ce-4c0b-8849-5cb555173aa3"
      },
      "source": [
        "y_pred = ann.predict(X_test)\n",
        "np.set_printoptions(precision=2)\n",
        "print(np.concatenate((y_pred.reshape(len(y_pred),1), y_test.reshape(len(y_test),1)),1))"
      ],
      "execution_count": 11,
      "outputs": [
        {
          "output_type": "stream",
          "name": "stdout",
          "text": [
            "[[431.78 431.23]\n",
            " [460.04 460.01]\n",
            " [466.1  461.14]\n",
            " ...\n",
            " [472.57 473.26]\n",
            " [438.38 438.  ]\n",
            " [457.91 463.28]]\n"
          ]
        }
      ]
    }
  ]
}